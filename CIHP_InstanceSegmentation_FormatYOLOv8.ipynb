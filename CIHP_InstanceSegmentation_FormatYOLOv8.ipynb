{
  "nbformat": 4,
  "nbformat_minor": 0,
  "metadata": {
    "colab": {
      "provenance": [],
      "collapsed_sections": [
        "-CDwM7EDTayS",
        "mWaybPFoSL5O",
        "XDNfMc6nSL5R",
        "FvA6pLSDiheR",
        "0YXqLad0xmYl",
        "l3fmouE8xrVw"
      ],
      "toc_visible": true
    },
    "kernelspec": {
      "name": "python3",
      "display_name": "Python 3"
    },
    "language_info": {
      "name": "python"
    }
  },
  "cells": [
    {
      "cell_type": "markdown",
      "source": [
        "[![Open In Colab](https://colab.research.google.com/assets/colab-badge.svg)](https://colab.research.google.com/github/nguyenphuvinhtoan/SpecializedProject_HK231/blob/main/CIHP_InstanceSegmentation_FormatYOLOv8.ipynb)"
      ],
      "metadata": {
        "id": "-2ITfU4aufmL"
      }
    },
    {
      "cell_type": "markdown",
      "source": [
        "# Download Dataset for YOLOv8"
      ],
      "metadata": {
        "id": "-CDwM7EDTayS"
      }
    },
    {
      "cell_type": "markdown",
      "source": [
        "### Download Dataset từ nguồn của tác giả"
      ],
      "metadata": {
        "id": "dmBSUO8h2LlZ"
      }
    },
    {
      "cell_type": "markdown",
      "source": [
        "#### Tạo thư mục data để chứa ảnh và dữ liệu liên quan đến dataset tải về dữ liệu"
      ],
      "metadata": {
        "id": "r0w_VWQCB2CA"
      }
    },
    {
      "cell_type": "code",
      "source": [
        "!mkdir data\n",
        "%cd data"
      ],
      "metadata": {
        "colab": {
          "base_uri": "https://localhost:8080/"
        },
        "id": "miUwluaw3V-G",
        "outputId": "44aaa3f8-79fb-4a15-f05d-602a2e22e992"
      },
      "execution_count": null,
      "outputs": [
        {
          "output_type": "stream",
          "name": "stdout",
          "text": [
            "/content/data\n"
          ]
        }
      ]
    },
    {
      "cell_type": "code",
      "execution_count": null,
      "metadata": {
        "colab": {
          "base_uri": "https://localhost:8080/",
          "height": 125
        },
        "id": "wx2m8vpMQRet",
        "outputId": "ff186ae7-d04e-4180-8414-74217e7f36e1"
      },
      "outputs": [
        {
          "output_type": "stream",
          "name": "stdout",
          "text": [
            "Downloading...\n",
            "From: https://drive.google.com/uc?id=1HltDOSqdk3YMNn8de76CekuZ2rqFWKLl\n",
            "To: /content/data/images.zip\n",
            "100% 1.45G/1.45G [00:25<00:00, 56.8MB/s]\n"
          ]
        },
        {
          "output_type": "execute_result",
          "data": {
            "text/plain": [
              "'\\n# CIHP_train.json\\n!gdown https://drive.google.com/uc?id=1aPOg90kVwGYseCvZ7JU1TXFfdCJhoNZ9\\n# CIHP_val.json\\n!gdown https://drive.google.com/uc?id=1npjmI5RjoYQ7Y-jdvHsdwiVBcOh64IfY\\n# CIHP_test.json\\n!gdown https://drive.google.com/uc?id=1D_qsRga05YC89pCmy6wbKn-IKhvLMOY_\\n'"
            ],
            "application/vnd.google.colaboratory.intrinsic+json": {
              "type": "string"
            }
          },
          "metadata": {},
          "execution_count": 2
        }
      ],
      "source": [
        "# images.zip\n",
        "!gdown https://drive.google.com/uc?id=1HltDOSqdk3YMNn8de76CekuZ2rqFWKLl\n",
        "# Uncomment block below if need json files\n",
        "\"\"\"\n",
        "# CIHP_train.json\n",
        "!gdown https://drive.google.com/uc?id=1aPOg90kVwGYseCvZ7JU1TXFfdCJhoNZ9\n",
        "# CIHP_val.json\n",
        "!gdown https://drive.google.com/uc?id=1npjmI5RjoYQ7Y-jdvHsdwiVBcOh64IfY\n",
        "# CIHP_test.json\n",
        "!gdown https://drive.google.com/uc?id=1D_qsRga05YC89pCmy6wbKn-IKhvLMOY_\n",
        "\"\"\""
      ]
    },
    {
      "cell_type": "code",
      "source": [
        "# Unzip images.zip\n",
        "!unzip -qq images.zip"
      ],
      "metadata": {
        "id": "SlSvYfb7UgE2"
      },
      "execution_count": null,
      "outputs": []
    },
    {
      "cell_type": "code",
      "source": [
        "# Remove unused images.zip after extraction\n",
        "!rm -rf images.zip"
      ],
      "metadata": {
        "id": "80DiNg9PVu_C"
      },
      "execution_count": null,
      "outputs": []
    },
    {
      "cell_type": "code",
      "source": [
        "# Download test_image\n",
        "!gdown https://drive.google.com/uc?id=1BAjkBvBU_QGGE-YEAY445hRstz_yDSCg"
      ],
      "metadata": {
        "colab": {
          "base_uri": "https://localhost:8080/"
        },
        "id": "_T2YfJk78cPJ",
        "outputId": "b3180986-92cf-4c0a-9a97-e10536534f0b"
      },
      "execution_count": null,
      "outputs": [
        {
          "output_type": "stream",
          "name": "stdout",
          "text": [
            "Downloading...\n",
            "From: https://drive.google.com/uc?id=1BAjkBvBU_QGGE-YEAY445hRstz_yDSCg\n",
            "To: /content/data/CIHP_test_img.zip\n",
            "100% 156M/156M [00:07<00:00, 21.5MB/s]\n"
          ]
        }
      ]
    },
    {
      "cell_type": "code",
      "source": [
        "# Unzip CIHP_test_img.zip\n",
        "!unzip -qq CIHP_test_img.zip"
      ],
      "metadata": {
        "id": "tB8QQWSa8scu"
      },
      "execution_count": null,
      "outputs": []
    },
    {
      "cell_type": "code",
      "source": [
        "# Remove unused CIHP_test_img.zip after extraction\n",
        "!rm -rf CIHP_test_img.zip"
      ],
      "metadata": {
        "id": "zvaY86eG816K"
      },
      "execution_count": null,
      "outputs": []
    },
    {
      "cell_type": "markdown",
      "source": [
        "### Download Detection labels cho YOLOv8"
      ],
      "metadata": {
        "id": "6clGiaMD2XUy"
      }
    },
    {
      "cell_type": "code",
      "source": [
        "# Tải label cho detection YOLOv8\n",
        "!gdown https://drive.google.com/uc?id=1zfNhwCVg7KdmHFHHSwiHRDAWyObyHuRy"
      ],
      "metadata": {
        "colab": {
          "base_uri": "https://localhost:8080/"
        },
        "id": "5VqQtTmH2xZU",
        "outputId": "fd1385d3-f52f-41a5-8db5-1278c2f98e63"
      },
      "execution_count": null,
      "outputs": [
        {
          "output_type": "stream",
          "name": "stdout",
          "text": [
            "Downloading...\n",
            "From: https://drive.google.com/uc?id=1zfNhwCVg7KdmHFHHSwiHRDAWyObyHuRy\n",
            "To: /content/data/CIHP_YOLOv8_Detection_Label.zip\n",
            "100% 7.96M/7.96M [00:00<00:00, 24.1MB/s]\n"
          ]
        }
      ]
    },
    {
      "cell_type": "code",
      "source": [
        "# Unzip CIHP_YOLOv8_Detection_Label.zip\n",
        "!unzip -qq CIHP_YOLOv8_Detection_Label.zip"
      ],
      "metadata": {
        "id": "0ekfbe5P25bO"
      },
      "execution_count": null,
      "outputs": []
    },
    {
      "cell_type": "code",
      "source": [
        "# Remove unused CIHP_YOLOv8_Detection_Label after extraction\n",
        "!rm -rf CIHP_YOLOv8_Detection_Label.zip"
      ],
      "metadata": {
        "id": "L5Sijj6AC77b"
      },
      "execution_count": null,
      "outputs": []
    },
    {
      "cell_type": "code",
      "source": [
        "# Di chuyển ra lại thư mục /content\n",
        "%cd .."
      ],
      "metadata": {
        "colab": {
          "base_uri": "https://localhost:8080/"
        },
        "id": "nqx8UDT43fWr",
        "outputId": "df6dc547-a9ca-465a-a603-e5386926077b"
      },
      "execution_count": null,
      "outputs": [
        {
          "output_type": "stream",
          "name": "stdout",
          "text": [
            "/content\n"
          ]
        }
      ]
    },
    {
      "cell_type": "markdown",
      "source": [
        "# Create Segmentation Label for YOLOv8"
      ],
      "metadata": {
        "id": "mWaybPFoSL5O"
      }
    },
    {
      "cell_type": "markdown",
      "source": [
        "## Import libraries"
      ],
      "metadata": {
        "id": "ff77G5wTSL5Q"
      }
    },
    {
      "cell_type": "code",
      "source": [
        "import numpy as np\n",
        "import cv2\n",
        "from google.colab.patches import cv2_imshow\n",
        "import math\n",
        "from random import randint"
      ],
      "metadata": {
        "id": "FnXEA5TPSL5Q"
      },
      "execution_count": null,
      "outputs": []
    },
    {
      "cell_type": "markdown",
      "source": [
        "## Hàm để decode label"
      ],
      "metadata": {
        "id": "hDq70yUTSL5Q"
      }
    },
    {
      "cell_type": "code",
      "source": [
        "# colour map\n",
        "labels_decoder = [\"Background\", \"Hat\", \"Hair\", \"Glove\", \"Sunglasses\", \"UpperClothes\", \"Dress\", \"Coat\", \"Socks\", \"Pants\", \"Torso-skin\", \"Scarf\", \"Skirt\", \"Face\", \"Left-arm\", \"Right-arm\", \"Left-leg\", \"Right-leg\", \"Left-shoe\", \"Right-shoe\", \"Person\"]\n",
        "label_colours = [(0,0,0)\n",
        "                , (128,0,0), (255,0,0), (0,85,0), (170,0,51), (255,85,0), (0,0,85), (0,119,221), (85,85,0), (0,85,85), (85,51,0), (52,86,128), (0,128,0)\n",
        "                , (0,0,255), (51,170,221), (0,255,255), (85,255,170), (170,255,85), (255,255,0), (255,170,0)]"
      ],
      "metadata": {
        "id": "OsiCMKsKSL5Q"
      },
      "execution_count": null,
      "outputs": []
    },
    {
      "cell_type": "code",
      "source": [
        "def decode_labels(image):\n",
        "    h, w = image.shape\n",
        "    r, g ,b = [], [] , []\n",
        "    for i in range(h):\n",
        "        for j in range(w):\n",
        "            x,y,z = label_colours[image[i,j]]\n",
        "            r.append(x)\n",
        "            g.append(y)\n",
        "            b.append(z)\n",
        "    r = np.array(r, dtype=np.uint8).reshape((h,w))\n",
        "    g = np.array(g, dtype=np.uint8).reshape((h,w))\n",
        "    b = np.array(b, dtype=np.uint8).reshape((h,w))\n",
        "    return cv2.merge((b,g,r))\n",
        "\n",
        "def merge_parsing(image, label):\n",
        "    h,w,c = image.shape\n",
        "    r,g,b = [], [], []\n",
        "    for i in range(h):\n",
        "        for j in range(w):\n",
        "            if label[i,j,0] != 0 or label[i,j,1] != 0 or label[i,j,2] != 0:\n",
        "                r.append(label[i,j,0])\n",
        "                g.append(label[i,j,1])\n",
        "                b.append(label[i,j,2])\n",
        "            else:\n",
        "                r.append(image[i,j,0])\n",
        "                g.append(image[i,j,1])\n",
        "                b.append(image[i,j,2])\n",
        "    r = np.array(r, dtype=np.uint8).reshape((h,w))\n",
        "    g = np.array(g, dtype=np.uint8).reshape((h,w))\n",
        "    b = np.array(b, dtype=np.uint8).reshape((h,w))\n",
        "    return cv2.merge((r,g,b))"
      ],
      "metadata": {
        "id": "8QxIgLYxSL5Q"
      },
      "execution_count": null,
      "outputs": []
    },
    {
      "cell_type": "markdown",
      "source": [
        "## Hàm để vẽ label-YOLOv8 lên ảnh tương ứng"
      ],
      "metadata": {
        "id": "rTLTdXV-SL5R"
      }
    },
    {
      "cell_type": "code",
      "source": [
        "# Hàm draw_label_YOLOv8 nhận vào (đường dẫn cho ảnh, đường dẫn cho file annotation, và flag fillPoly)\n",
        "# fillPoly == True để vẽ mask cho objects\n",
        "# fillPoly == False để vẽ polygon bao quanh objects\n",
        "def draw_label_YOLOv8(image_path, annot_path, fillPoly=False):\n",
        "    with open(annot_path, 'r') as f:\n",
        "        labels = f.read().splitlines()\n",
        "    img = cv2.imread(image_path)\n",
        "    h,w = img.shape[:2]\n",
        "\n",
        "    for label in labels:\n",
        "        class_id, *poly = label.split(' ')\n",
        "\n",
        "        poly = np.asarray(poly,dtype=np.float16).reshape(-1,2) # Read poly, reshape\n",
        "        poly *= [w,h] # Unscale\n",
        "\n",
        "        if fillPoly:\n",
        "            if class_id == \"20\":    # Pass all person\n",
        "                continue\n",
        "            cv2.fillPoly(img, [poly.astype('int')], (randint(0,255),randint(0,255),randint(0,255)), cv2.LINE_AA) # Draw mask\n",
        "        else:\n",
        "            cv2.polylines(img, [poly.astype('int')], True, (randint(0,255),randint(0,255),randint(0,255)), 2) # Draw Poly Lines\n",
        "    cv2_imshow(img)"
      ],
      "metadata": {
        "id": "ih2tzt3GSL5R"
      },
      "execution_count": null,
      "outputs": []
    },
    {
      "cell_type": "markdown",
      "source": [
        "## Hàm tạo và vẽ bouding box format (cx,cy,w,h)"
      ],
      "metadata": {
        "id": "XDNfMc6nSL5R"
      }
    },
    {
      "cell_type": "code",
      "source": [
        "def create_anchor_pos(image):\n",
        "    # height and width of image\n",
        "    h, w = image.shape\n",
        "    # Top-left and right-bottom position\n",
        "    min_x, min_y, max_x, max_y = w, h, 0, 0\n",
        "    for i in range(h):\n",
        "        for j in range(w):\n",
        "            if image[i,j] != 0:\n",
        "                if j < min_x: min_x = j\n",
        "                if i < min_y: min_y = i\n",
        "                if j > max_x: max_x = j\n",
        "                if i > max_y: max_y = i\n",
        "    # Use block below to padding bounding box\n",
        "    \"\"\"\n",
        "    padding = 0\n",
        "    min_x -= padding\n",
        "    min_y -= padding\n",
        "    max_x += padding\n",
        "    max_y += padding\n",
        "    \"\"\"\n",
        "    # Normalize position\n",
        "    min_x /= w\n",
        "    max_x /= w\n",
        "    min_y /= h\n",
        "    max_y /= h\n",
        "    # Return anchor-box (center_x, center_y, width, height)\n",
        "    return (min_x+max_x)/2.0, (min_y+max_y)/2.0, max_x-min_x, max_y-min_y\n",
        "\n",
        "def draw_bb(image, cx, cy, w, h):\n",
        "    row = 0\n",
        "    center = (cx, cy)\n",
        "    print(\"Center: {}\".format(center))\n",
        "    width = w\n",
        "    height = h\n",
        "    print(\"Width: {}\".format(width))\n",
        "    print(\"Height: {}\".format(height))\n",
        "    w_p = image.shape[1]\n",
        "    h_p = image.shape[0]\n",
        "    print(\"Image_width: {}\".format(w_p))\n",
        "    print(\"Image height: {}\".format(h_p))\n",
        "\n",
        "    # Top left point\n",
        "    x1, y1 = int((center[0] - width/2)*w_p), int((center[1] - height/2)*h_p)\n",
        "    # Bottom right point\n",
        "    x2, y2 = int((center[0] + width/2)*w_p), int((center[1] + height/2)*h_p)\n",
        "    print(\"Top-left: {} {}\".format(x1, y1))\n",
        "    print(\"Right-bottom: {} {}\".format(x2, y2))\n",
        "\n",
        "    cv2.rectangle(image, (x1,y1), (x2, y2), (255, 255, 255), 2)\n",
        "    cv2_imshow(image)"
      ],
      "metadata": {
        "id": "8vupMPuKSL5R"
      },
      "execution_count": null,
      "outputs": []
    },
    {
      "cell_type": "markdown",
      "source": [
        "## Segmentation for human parts and human instance"
      ],
      "metadata": {
        "id": "_JsVSx7cSL5R"
      }
    },
    {
      "cell_type": "code",
      "source": [
        "# Định nghĩa hàm tạo hình mới từ hình nhị phân cũ sao cho kết quả contours giảm đi một đường\n",
        "# Tiền điều kiện: hình nhập vào nếu contour thì sẽ cho ra nhiều hơn 1 đường\n",
        "def draw_additional_line(bin_img: np.ndarray, label: int) -> np.ndarray:\n",
        "  # Tìm contours\n",
        "  cons, _ = cv2.findContours(bin_img, cv2.RETR_EXTERNAL, cv2.CHAIN_APPROX_NONE)\n",
        "  # Tìm 2 điểm gần nhau nhất\n",
        "  con01, con02 = cons[0], cons[1]\n",
        "  min_ids = (0, 0)\n",
        "  min = np.linalg.norm(con01[0] - con02[0])\n",
        "  for i in range(con01.shape[0]):\n",
        "    for j in range(con02.shape[0]):\n",
        "      dist = np.linalg.norm(con01[i] - con02[j])\n",
        "      if dist < min:\n",
        "        min = dist\n",
        "        min_ids = (i,j)\n",
        "  # Vẽ ảnh mới với việc thêm một đường thẳng\n",
        "  ans_img = bin_img.copy()\n",
        "  start_point = (con01[min_ids[0]][0][0], con01[min_ids[0]][0][1])\n",
        "  end_point = (con02[min_ids[1]][0][0], con02[min_ids[1]][0][1])\n",
        "  thickness = 2\n",
        "  cv2.line(ans_img, start_point, end_point, label, thickness)\n",
        "  return ans_img"
      ],
      "metadata": {
        "id": "NhUwUNlWTqIQ"
      },
      "execution_count": null,
      "outputs": []
    },
    {
      "cell_type": "code",
      "source": [
        "def create_contour(gray_image):\n",
        "    # Create list of 21 new image, with each image is a unique class. Class 21 is whole person\n",
        "    h, w = gray_image.shape\n",
        "    class_imgs = [np.zeros((h, w)) for i in range(21)]\n",
        "\n",
        "    # Put label value from gray_image into class_img\n",
        "    for row in range(h):\n",
        "        for col in range(w):\n",
        "            label = gray_image[row][col]\n",
        "            class_imgs[label][row][col] = label\n",
        "            if label > 0: class_imgs[20][row][col] = 20\n",
        "        class_imgs = [np.array(img, np.uint8) for img in class_imgs]\n",
        "\n",
        "    # Using the cv2 contour to create edges\n",
        "    source_imgs = [img.copy() for img in class_imgs]\n",
        "    contours = []\n",
        "    for i in range(len(source_imgs)):\n",
        "        contour, hierarchy = cv2.findContours(source_imgs[i], cv2.RETR_EXTERNAL, cv2.CHAIN_APPROX_NONE)\n",
        "        while (len(contour) > 1):\n",
        "            source_imgs[i] = draw_additional_line(source_imgs[i], i)\n",
        "            contour, hierarchy = cv2.findContours(source_imgs[i], cv2.RETR_EXTERNAL, cv2.CHAIN_APPROX_NONE)\n",
        "        contours.append(contour)\n",
        "    return contours"
      ],
      "metadata": {
        "id": "ul8C3pBsSL5R"
      },
      "execution_count": null,
      "outputs": []
    },
    {
      "cell_type": "code",
      "source": [
        "def support_create_txt(annot_file, contours, image):\n",
        "    h,w = image.shape\n",
        "    res = \"\"\n",
        "    for cl, ct in enumerate(contours):\n",
        "        for c in ct:\n",
        "            line = \"\" + str(cl)\n",
        "            for xy in c:\n",
        "                x,y = xy[0]\n",
        "                line = line + \" \" + str(x/w) + \" \" + str(y/h)\n",
        "            line += \"\\n\"\n",
        "            res += line\n",
        "    f = open(annot_file, \"a\")\n",
        "    f.write(res)\n",
        "    f.close()"
      ],
      "metadata": {
        "id": "VyoHRtXvSL5S"
      },
      "execution_count": null,
      "outputs": []
    },
    {
      "cell_type": "markdown",
      "source": [
        "### Test some result (1)"
      ],
      "metadata": {
        "id": "3iOmeUUJsYv8"
      }
    },
    {
      "cell_type": "code",
      "source": [
        "# Import image as grayscale\n",
        "image_path = '/content/data/val_parsing/0000001-2.png'\n",
        "gray_image = cv2.imread(image_path, cv2.IMREAD_GRAYSCALE)\n",
        "color_image = decode_labels(gray_image)\n",
        "# Display the original and grayscale images\n",
        "cv2_imshow(color_image)"
      ],
      "metadata": {
        "colab": {
          "base_uri": "https://localhost:8080/",
          "height": 392
        },
        "outputId": "2bd887f8-dd63-4d6c-cc9f-76e1994b196b",
        "id": "nslQYVJbsYwI"
      },
      "execution_count": null,
      "outputs": [
        {
          "output_type": "display_data",
          "data": {
            "text/plain": [
              "<PIL.Image.Image image mode=RGB size=500x375>"
            ],
            "image/png": "[encoded data removed]"
          },
          "metadata": {}
        }
      ]
    },
    {
      "cell_type": "code",
      "source": [
        "contours = create_contour(gray_image)"
      ],
      "metadata": {
        "id": "HeoR8ahKsYwI"
      },
      "execution_count": null,
      "outputs": []
    },
    {
      "cell_type": "code",
      "source": [
        "h,w = gray_image.shape\n",
        "res = \"\"\n",
        "for cl, ct in enumerate(contours):\n",
        "    for c in ct:\n",
        "        line = \"\" + str(cl)\n",
        "        for xy in c:\n",
        "            x,y = xy[0]\n",
        "            line = line + \" \" + str(x/w) + \" \" + str(y/h)\n",
        "        line += \"\\n\"\n",
        "        res += line\n",
        "f = open(\"0000001-2.txt\", \"w\")\n",
        "f.write(res)\n",
        "f.close()"
      ],
      "metadata": {
        "id": "mAt3gSmasYwI"
      },
      "execution_count": null,
      "outputs": []
    },
    {
      "cell_type": "code",
      "source": [
        "draw_label_YOLOv8(\"/content/data/val_parsing/0000001-2.png\", \"/content/0000001-2.txt\", False)\n",
        "draw_label_YOLOv8(\"/content/data/val_parsing/0000001-2.png\", \"/content/0000001-2.txt\", True)"
      ],
      "metadata": {
        "colab": {
          "base_uri": "https://localhost:8080/",
          "height": 767
        },
        "outputId": "0ea1576a-a792-4c60-8903-3edb7ba83e8b",
        "id": "lGACUw5AsYwI"
      },
      "execution_count": null,
      "outputs": [
        {
          "output_type": "display_data",
          "data": {
            "text/plain": [
              "<PIL.Image.Image image mode=RGB size=500x375>"
            ],
            "image/png": "[encoded data removed]"
          },
          "metadata": {}
        },
        {
          "output_type": "display_data",
          "data": {
            "text/plain": [
              "<PIL.Image.Image image mode=RGB size=500x375>"
            ],
            "image/png": "[encoded data removed]"
          },
          "metadata": {}
        }
      ]
    },
    {
      "cell_type": "markdown",
      "source": [
        "### Test some result (2)"
      ],
      "metadata": {
        "id": "d3mn_aONSL5T"
      }
    },
    {
      "cell_type": "code",
      "source": [
        "# Import image as grayscale\n",
        "image_path = '/content/data/train_parsing/0000012-3.png'\n",
        "gray_image = cv2.imread(image_path, cv2.IMREAD_GRAYSCALE)\n",
        "color_image = decode_labels(gray_image)\n",
        "# Display the original and grayscale images\n",
        "cv2_imshow(color_image)"
      ],
      "metadata": {
        "colab": {
          "base_uri": "https://localhost:8080/",
          "height": 351
        },
        "outputId": "254d99bf-7a7c-4fd0-e6cd-b8c8abf12beb",
        "id": "vV-88fepSL5T"
      },
      "execution_count": null,
      "outputs": [
        {
          "output_type": "display_data",
          "data": {
            "text/plain": [
              "<PIL.Image.Image image mode=RGB size=500x334>"
            ],
            "image/png": "[encoded data removed]"
          },
          "metadata": {}
        }
      ]
    },
    {
      "cell_type": "code",
      "source": [
        "contours = create_contour(gray_image)"
      ],
      "metadata": {
        "id": "RW5E9X-QU_2q"
      },
      "execution_count": null,
      "outputs": []
    },
    {
      "cell_type": "code",
      "source": [
        "h,w = gray_image.shape\n",
        "res = \"\"\n",
        "for cl, ct in enumerate(contours):\n",
        "    for c in ct:\n",
        "        line = \"\" + str(cl)\n",
        "        for xy in c:\n",
        "            x,y = xy[0]\n",
        "            line = line + \" \" + str(x/w) + \" \" + str(y/h)\n",
        "        line += \"\\n\"\n",
        "        res += line\n",
        "f = open(\"0000012-3.txt\", \"w\")\n",
        "f.write(res)\n",
        "f.close()"
      ],
      "metadata": {
        "id": "aSrb8J-sVFsn"
      },
      "execution_count": null,
      "outputs": []
    },
    {
      "cell_type": "code",
      "source": [
        "draw_label_YOLOv8(\"/content/data/train_parsing/0000012-3.png\", \"/content/0000012-3.txt\", False)\n",
        "draw_label_YOLOv8(\"/content/data/train_parsing/0000012-3.png\", \"/content/0000012-3.txt\", True)"
      ],
      "metadata": {
        "colab": {
          "base_uri": "https://localhost:8080/",
          "height": 685
        },
        "outputId": "f61176ee-e8d0-47c3-9c26-728098f30aa7",
        "id": "uqW6OfXoSL5T"
      },
      "execution_count": null,
      "outputs": [
        {
          "output_type": "display_data",
          "data": {
            "text/plain": [
              "<PIL.Image.Image image mode=RGB size=500x334>"
            ],
            "image/png": "[encoded data removed]"
          },
          "metadata": {}
        },
        {
          "output_type": "display_data",
          "data": {
            "text/plain": [
              "<PIL.Image.Image image mode=RGB size=500x334>"
            ],
            "image/png": "[encoded data removed]"
          },
          "metadata": {}
        }
      ]
    },
    {
      "cell_type": "markdown",
      "source": [
        "### Test instance visualize"
      ],
      "metadata": {
        "id": "e1lmyxiTSL5U"
      }
    },
    {
      "cell_type": "code",
      "source": [
        "ct = contours[20][0]"
      ],
      "metadata": {
        "id": "eL_3jEN2i_fF"
      },
      "execution_count": null,
      "outputs": []
    },
    {
      "cell_type": "code",
      "source": [
        "clone_image = gray_image.copy()\n",
        "clone_image_color = decode_labels(clone_image)\n",
        "arr = np.array(ct)\n",
        "arr = arr.reshape((-1, 1, 2))\n",
        "isClosed = True\n",
        "# White color in BGR\n",
        "color = (255, 255, 255)\n",
        "\n",
        "# Line thickness of 2 px\n",
        "thickness = 1\n",
        "\n",
        "# Using cv2.polylines() method\n",
        "# Draw a White polygon with\n",
        "# thickness of 1 px\n",
        "res = cv2.polylines(clone_image, [arr],\n",
        "                    isClosed, color, thickness)\n",
        "# Displaying the image\n",
        "cv2_imshow(clone_image_color)\n",
        "cv2_imshow(clone_image)"
      ],
      "metadata": {
        "colab": {
          "base_uri": "https://localhost:8080/",
          "height": 685
        },
        "outputId": "c55c360a-904d-4d8d-a5ed-695788e71a68",
        "id": "SuiK6JU-SL5U"
      },
      "execution_count": null,
      "outputs": [
        {
          "output_type": "display_data",
          "data": {
            "text/plain": [
              "<PIL.Image.Image image mode=RGB size=500x334>"
            ],
            "image/png": "[encoded data removed]"
          },
          "metadata": {}
        },
        {
          "output_type": "display_data",
          "data": {
            "text/plain": [
              "<PIL.Image.Image image mode=L size=500x334>"
            ],
            "image/png": "[encoded data removed]"
          },
          "metadata": {}
        }
      ]
    },
    {
      "cell_type": "markdown",
      "source": [
        "# Tạo label cho toàn bộ dữ liệu"
      ],
      "metadata": {
        "id": "FvA6pLSDiheR"
      }
    },
    {
      "cell_type": "markdown",
      "source": [
        "## Train"
      ],
      "metadata": {
        "id": "0YXqLad0xmYl"
      }
    },
    {
      "cell_type": "code",
      "source": [
        "import os\n",
        "import multiprocessing"
      ],
      "metadata": {
        "id": "TOidXSTSipl_"
      },
      "execution_count": null,
      "outputs": []
    },
    {
      "cell_type": "code",
      "source": [
        "!mkdir train\n",
        "%cd train"
      ],
      "metadata": {
        "id": "200CAmzxmkl5"
      },
      "execution_count": null,
      "outputs": []
    },
    {
      "cell_type": "code",
      "source": [
        "def process(file):\n",
        "    if file.endswith(('.jpg', '.png', 'jpeg')):\n",
        "        img_path = val_path + file\n",
        "        print(img_path)\n",
        "    annot_file = file.rsplit('-')[0] + \".txt\"\n",
        "    image = cv2.imread(img_path, cv2.IMREAD_GRAYSCALE)\n",
        "    contours = create_contour(image)\n",
        "    support_create_txt(annot_file, contours, image)"
      ],
      "metadata": {
        "id": "B0ukMmf1kYAm"
      },
      "execution_count": null,
      "outputs": []
    },
    {
      "cell_type": "code",
      "source": [
        "train_path = \"/content/data/train_parsing/\""
      ],
      "metadata": {
        "id": "85uUdvE0iw6r"
      },
      "execution_count": null,
      "outputs": []
    },
    {
      "cell_type": "code",
      "source": [
        "train_images = os.listdir(train_path)"
      ],
      "metadata": {
        "id": "ZfmpyA3di1Nw"
      },
      "execution_count": null,
      "outputs": []
    },
    {
      "cell_type": "code",
      "source": [
        "train_images.sort()"
      ],
      "metadata": {
        "id": "iwYmDa4_i-J_"
      },
      "execution_count": null,
      "outputs": []
    },
    {
      "cell_type": "code",
      "source": [
        "pool = multiprocessing.Pool()\n",
        "pool = multiprocessing.Pool(processes=10)\n",
        "outputs = pool.map(process, train_images)"
      ],
      "metadata": {
        "id": "rHLSAb-ejI_7"
      },
      "execution_count": null,
      "outputs": []
    },
    {
      "cell_type": "code",
      "source": [
        "%cd .."
      ],
      "metadata": {
        "id": "xt4KhDX-jN8T"
      },
      "execution_count": null,
      "outputs": []
    },
    {
      "cell_type": "markdown",
      "source": [
        "## Val"
      ],
      "metadata": {
        "id": "l3fmouE8xrVw"
      }
    },
    {
      "cell_type": "code",
      "source": [
        "import os\n",
        "import multiprocessing"
      ],
      "metadata": {
        "id": "2B583mWZxrV8"
      },
      "execution_count": null,
      "outputs": []
    },
    {
      "cell_type": "code",
      "source": [
        "!mkdir val\n",
        "%cd val"
      ],
      "metadata": {
        "colab": {
          "base_uri": "https://localhost:8080/"
        },
        "outputId": "69e7a3c5-1f4a-43c3-d102-f79f14025d74",
        "id": "DmLwuXvoxrV8"
      },
      "execution_count": null,
      "outputs": [
        {
          "output_type": "stream",
          "name": "stdout",
          "text": [
            "/content/val\n"
          ]
        }
      ]
    },
    {
      "cell_type": "code",
      "source": [
        "def process(file):\n",
        "    if file.endswith(('.jpg', '.png', 'jpeg')):\n",
        "        img_path = val_path + file\n",
        "        print(img_path)\n",
        "    annot_file = file.rsplit('-')[0] + \".txt\"\n",
        "    image = cv2.imread(img_path, cv2.IMREAD_GRAYSCALE)\n",
        "    contours = create_contour(image)\n",
        "    support_create_txt(annot_file, contours, image)"
      ],
      "metadata": {
        "id": "EEpJjL8YxrV8"
      },
      "execution_count": null,
      "outputs": []
    },
    {
      "cell_type": "code",
      "source": [
        "val_path = \"/content/data/val_parsing/\""
      ],
      "metadata": {
        "id": "Ap5eswwrxrV8"
      },
      "execution_count": null,
      "outputs": []
    },
    {
      "cell_type": "code",
      "source": [
        "val_images = os.listdir(val_path)"
      ],
      "metadata": {
        "id": "e81CMHAZxrV9"
      },
      "execution_count": null,
      "outputs": []
    },
    {
      "cell_type": "code",
      "source": [
        "val_images.sort()"
      ],
      "metadata": {
        "id": "lxAiCQxwxrV9"
      },
      "execution_count": null,
      "outputs": []
    },
    {
      "cell_type": "code",
      "source": [
        "pool = multiprocessing.Pool()\n",
        "pool = multiprocessing.Pool(processes=10)\n",
        "outputs = pool.map(process, val_images)"
      ],
      "metadata": {
        "id": "qwGOl3stxrV9"
      },
      "execution_count": null,
      "outputs": []
    },
    {
      "cell_type": "code",
      "source": [
        "%cd .."
      ],
      "metadata": {
        "id": "wCo6F4T1xrV9"
      },
      "execution_count": null,
      "outputs": []
    }
  ]
}